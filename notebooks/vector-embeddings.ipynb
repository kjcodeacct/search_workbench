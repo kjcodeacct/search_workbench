{
 "cells": [
  {
   "cell_type": "markdown",
   "metadata": {},
   "source": [
    "# Vector Embeddings"
   ]
  },
  {
   "cell_type": "markdown",
   "metadata": {},
   "source": [
    "Setup and load the spacy sentence model."
   ]
  },
  {
   "cell_type": "code",
   "execution_count": 1,
   "metadata": {},
   "outputs": [
    {
     "name": "stderr",
     "output_type": "stream",
     "text": [
      "/home/kjcodeacct/.local/lib/python3.10/site-packages/spacy/util.py:910: UserWarning: [W095] Model 'en_stsb_roberta_large' (0.1.2) was trained with spaCy v3.0.3 and may not be 100% compatible with the current version (3.7.2). If you see errors or degraded performance, download a newer compatible model or retrain your custom model with the current spaCy version. For more details and available updates, run: python -m spacy validate\n",
      "  warnings.warn(warn_msg)\n"
     ]
    },
    {
     "name": "stdout",
     "output_type": "stream",
     "text": [
      "0.7491609175209973\n"
     ]
    }
   ],
   "source": [
    "import spacy_sentence_bert\n",
    "import spacy\n",
    "# load one of the models listed at https://github.com/MartinoMensio/spacy-sentence-bert/\n",
    "# nlp = spacy_sentence_bert.load_model('en_stsb_roberta_large') # vector dimensions of 1024\n",
    "nlp = spacy.load(\"../model/en_stsb_roberta_large/en_stsb_roberta_large-0.1.2\")\n",
    "\n",
    "# get two documents\n",
    "doc_1 = nlp('Hi there, how are you?')\n",
    "doc_2 = nlp('Hello there, how are you doing today?')\n",
    "# use the similarity method that is based on the vectors, on Doc, Span or Token\n",
    "print(doc_1.similarity(doc_2[0:7]))"
   ]
  },
  {
   "cell_type": "markdown",
   "metadata": {},
   "source": [
    "Now run something similar to what we'll put in the vector embedding"
   ]
  },
  {
   "cell_type": "code",
   "execution_count": 3,
   "metadata": {},
   "outputs": [
    {
     "name": "stdout",
     "output_type": "stream",
     "text": [
      "Vector dimensions:  1024\n",
      "[ 1.3316395  -0.4979994   0.49407336 ... -0.37918577 -1.1592922\n",
      " -1.356185  ]\n"
     ]
    }
   ],
   "source": [
    "doc_3 = nlp(\"The city of Changwon in South Korea, has a population of 1,046,054 people.\")\n",
    "print(\"Vector dimensions: \", doc_3.vector.shape[0])\n",
    "print(doc_3.vector)"
   ]
  },
  {
   "cell_type": "markdown",
   "metadata": {},
   "source": [
    "Handy code to clear pytorch memory (if needed)"
   ]
  },
  {
   "cell_type": "code",
   "execution_count": null,
   "metadata": {},
   "outputs": [],
   "source": [
    "import gc\n",
    "import torch\n",
    "\n",
    "gc.collect()\n",
    "\n",
    "torch.cuda.empty_cache()\n"
   ]
  }
 ],
 "metadata": {
  "kernelspec": {
   "display_name": "Python 3",
   "language": "python",
   "name": "python3"
  },
  "language_info": {
   "codemirror_mode": {
    "name": "ipython",
    "version": 3
   },
   "file_extension": ".py",
   "mimetype": "text/x-python",
   "name": "python",
   "nbconvert_exporter": "python",
   "pygments_lexer": "ipython3",
   "version": "3.10.6"
  }
 },
 "nbformat": 4,
 "nbformat_minor": 2
}
